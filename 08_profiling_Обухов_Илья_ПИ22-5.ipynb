{
 "cells": [
  {
   "cell_type": "markdown",
   "metadata": {},
   "source": [
    "## Обухов Илья ПИ225\n",
    "# Семинар 8 21.05.23"
   ]
  },
  {
   "cell_type": "markdown",
   "metadata": {},
   "source": [
    "## Оптимизация выполнения кода, векторизация, Numba"
   ]
  },
  {
   "cell_type": "markdown",
   "metadata": {},
   "source": [
    "Материалы:\n",
    "* Макрушин С.В. Лекция 3: Оптимизация выполнения кода, векторизация, Numba\n",
    "* IPython Cookbook, Second Edition (2018), глава 4\n",
    "* https://numba.pydata.org/numba-doc/latest/user/5minguide.html"
   ]
  },
  {
   "cell_type": "markdown",
   "metadata": {},
   "source": [
    "## Задачи для совместного разбора"
   ]
  },
  {
   "cell_type": "markdown",
   "metadata": {},
   "source": [
    "1. Сгенерируйте массив `A` из `N=1млн` случайных целых чисел на отрезке от 0 до 1000. Пусть `B[i] = A[i] + 100`. Посчитайте среднее значение массива `B`."
   ]
  },
  {
   "cell_type": "code",
   "execution_count": 8,
   "metadata": {},
   "outputs": [
    {
     "name": "stdout",
     "output_type": "stream",
     "text": [
      "599.897738\n"
     ]
    }
   ],
   "source": [
    "import random\n",
    "N = 1000000\n",
    "A = [random.randint(0, 1000) for i in range(N)]\n",
    "B = [a + 100 for a in A]\n",
    "av_B = sum(B) / N\n",
    "print(av_B)"
   ]
  },
  {
   "cell_type": "markdown",
   "metadata": {},
   "source": [
    "2. Создайте таблицу 2млн строк и с 4 столбцами, заполненными случайными числами. Добавьте столбец `key`, которые содержит элементы из множества английских букв. Выберите из таблицы подмножество строк, для которых в столбце `key` указаны первые 5 английских букв."
   ]
  },
  {
   "cell_type": "code",
   "execution_count": 21,
   "metadata": {},
   "outputs": [
    {
     "name": "stdout",
     "output_type": "stream",
     "text": [
      "                1         2         3         4 key\n",
      "8        0.390895  0.455269  0.005959  0.802900   a\n",
      "9        0.343274  0.372798  0.180353  0.986909   e\n",
      "10       0.729821  0.961028  0.079245  0.607695   d\n",
      "12       0.964955  0.306013  0.576941  0.644787   c\n",
      "14       0.870469  0.576169  0.972405  0.064861   e\n",
      "...           ...       ...       ...       ...  ..\n",
      "1999968  0.323718  0.894155  0.185776  0.780685   a\n",
      "1999981  0.206165  0.263084  0.663382  0.786747   b\n",
      "1999989  0.413212  0.649599  0.258448  0.615082   b\n",
      "1999995  0.808879  0.128536  0.144353  0.460786   b\n",
      "1999996  0.980360  0.008147  0.318783  0.069475   a\n",
      "\n",
      "[401673 rows x 5 columns]\n"
     ]
    }
   ],
   "source": [
    "import pandas as pd\n",
    "import numpy as np\n",
    "df = pd.DataFrame(np.random.rand(2000000, 4), columns=['1', '2', '3', '4'])\n",
    "df['key'] = [chr(np.random.randint(97, 122)) for i in range(2000000)]\n",
    "res = df[df['key'].str.contains('^[a-eA-E]')]\n",
    "print(res)"
   ]
  },
  {
   "cell_type": "markdown",
   "metadata": {},
   "source": [
    "## Лабораторная работа 3"
   ]
  },
  {
   "cell_type": "markdown",
   "metadata": {},
   "source": [
    "1. В файлах `recipes_sample.csv` и `reviews_sample.csv` (__ЛР 2__) находится информация об рецептах блюд и отзывах на эти рецепты соответственно. Загрузите данные из файлов в виде `pd.DataFrame` с названиями `recipes` и `reviews`. Обратите внимание на корректное считывание столбца(ов) с индексами. Приведите столбцы к нужным типам.\n",
    "\n",
    "Реализуйте несколько вариантов функции подсчета среднего значения столбца `rating` из таблицы `reviews` для отзывов, оставленных в 2010 году.\n",
    "\n",
    "A. С использованием метода `DataFrame.iterrows` исходной таблицы;\n",
    "\n",
    "Б. С использованием метода `DataFrame.iterrows` таблицы, в которой сохранены только отзывы за 2010 год;\n",
    "\n",
    "В. С использованием метода `Series.mean`.\n",
    "\n",
    "Проверьте, что результаты работы всех написанных функций корректны и совпадают. Измерьте выполнения всех написанных функций.\n"
   ]
  },
  {
   "cell_type": "code",
   "execution_count": 49,
   "metadata": {},
   "outputs": [
    {
     "name": "stdout",
     "output_type": "stream",
     "text": [
      "1) 4.4544402182900615\n",
      "2) 4.4544402182900615\n",
      "3) 4.4544402182900615\n",
      "\n",
      "\n",
      "mean1: 4.4544402182900615, time - 4.450187683105469\n",
      "mean2: 4.4544402182900615, time - 0.4156954288482666\n",
      "mean3: 4.4544402182900615, time - 0.8187837600708008\n"
     ]
    }
   ],
   "source": [
    "import pandas as pd\n",
    "import time\n",
    "recipes = pd.read_csv('recipes_sample.csv', index_col=0, delimiter=',')\n",
    "reviews = pd.read_csv('reviews_sample (1).csv', index_col=0, delimiter=',')\n",
    "reviews['date'] = pd.to_datetime(reviews['date'])\n",
    "def m1(reviews):\n",
    "    sumall = 0\n",
    "    counter = 0\n",
    "    for index, row in reviews.iterrows():\n",
    "        if row['date'].year == 2010:\n",
    "            sumall += row['rating']\n",
    "            counter += 1\n",
    "    return sumall / counter\n",
    "def m2(reviews):\n",
    "    sumall = 0\n",
    "    counter = 0\n",
    "    for index, row in reviews.loc[reviews['date'].dt.year == 2010].iterrows():\n",
    "        sumall += row['rating']\n",
    "        counter += 1\n",
    "    return sumall / counter\n",
    "def m3(reviews):\n",
    "    filtered_reviews = reviews.loc[reviews['date'].astype(str).str.contains('2010')]\n",
    "    return filtered_reviews['rating'].mean()\n",
    "print(f'1) {m1(reviews)}')\n",
    "print(f'2) {m2(reviews)}')\n",
    "print(f'3) {m3(reviews)}')\n",
    "print('\\n')\n",
    "start_time = time.time()\n",
    "res1 = m1(reviews)\n",
    "end_time = time.time()\n",
    "print(f'm1: {res1}, time - {end_time - start_time}')\n",
    "start_time = time.time()\n",
    "res2 = m2(reviews)\n",
    "end_time = time.time()\n",
    "print(f'm2: {res2}, time - {end_time - start_time}')\n",
    "start_time = time.time()\n",
    "res3 = m3(reviews)\n",
    "end_time = time.time()\n",
    "print(f'm3: {res3}, time - {end_time - start_time}')"
   ]
  },
  {
   "cell_type": "markdown",
   "metadata": {},
   "source": [
    "2. Какая из созданных функций выполняется медленнее? Что наиболее сильно влияет на скорость выполнения? Для ответа использовать профайлер `line_profiler`. Сохраните результаты работы профайлера в отдельную текстовую ячейку и прокомментируйте результаты его работы.\n",
    "\n",
    "(*). Сможете ли вы ускорить работу функции 1Б, отказавшись от использования метода `iterrows`, но не используя метод `mean`?"
   ]
  },
  {
   "cell_type": "code",
   "execution_count": 63,
   "metadata": {},
   "outputs": [
    {
     "name": "stdout",
     "output_type": "stream",
     "text": [
      "Вариант A, так как мы итерируемся абсолютно по всем строкам, а в других вариантах мы проходимсятолько по отфильтрованным (только отзывы за 2010 год) строкам, что значительно уменьшает количество обрабатываемыхданных, вследствие чего сильно увеличивает время выполнения функции\n",
      "\n",
      "\n",
      "Таким образом, используя лямбда-функцию и метод apply, мы сокращаем время выполнения программы, так какв памяти устройства во время выполнения функции не сохраняются данные, а в предыдущей версии функции сохранялись\n"
     ]
    }
   ],
   "source": [
    "print('Вариант A, так как мы итерируемся абсолютно по всем строкам, а в других вариантах мы проходимся\\\n",
    "только по отфильтрованным (только отзывы за 2010 год) строкам, что значительно уменьшает количество обрабатываемых\\\n",
    "данных, вследствие чего сильно увеличивает время выполнения функции')\n",
    "print('\\n')\n",
    "%lprun -f mean1 mean1(reviews)\n",
    "def mean1_2(reviews):\n",
    "    filtered_reviews = reviews[reviews['date'].dt.year == 2010]\n",
    "    count = len(filtered_reviews)\n",
    "    if count > 0:\n",
    "        return filtered_reviews['rating'].apply(lambda x: float(x)).sum() / count\n",
    "    else:\n",
    "        return None\n",
    "%lprun -f mean1_2 mean1_2(reviews)\n",
    "print('Таким образом, используя лямбда-функцию и метод apply, мы сокращаем время выполнения программы, так как\\\n",
    "в памяти устройства во время выполнения функции не сохраняются данные, а в предыдущей версии функции сохранялись')"
   ]
  },
  {
   "cell_type": "markdown",
   "metadata": {},
   "source": [
    "3. Вам предлагается воспользоваться функцией, которая собирает статистику о том, сколько отзывов содержат то или иное слово. Измерьте время выполнения этой функции. Сможете ли вы найти узкие места в коде, используя профайлер? Выпишите (словами), что в имеющемся коде реализовано неоптимально. Оптимизируйте функцию и добейтесь значительного (как минимум, на один порядок) прироста в скорости выполнения."
   ]
  },
  {
   "cell_type": "code",
   "execution_count": 83,
   "metadata": {},
   "outputs": [],
   "source": [
    "def get_word_reviews_count(df):\n",
    "    word_reviews = {}\n",
    "    for _, row in df.dropna(subset=['review']).iterrows():\n",
    "        recipe_id, review = row['recipe_id'], row['review']\n",
    "        words = review.split(' ')\n",
    "        for word in words:\n",
    "            if word not in word_reviews:\n",
    "                word_reviews[word] = []\n",
    "            word_reviews[word].append(recipe_id)\n",
    "    word_reviews_count = {}\n",
    "    for _, row in df.dropna(subset=['review']).iterrows():\n",
    "        review = row['review']\n",
    "        words = review.split(' ')\n",
    "        for word in words:\n",
    "            word_reviews_count[word] = len(word_reviews[word])\n",
    "    return word_reviews_count\n",
    "%lprun -f get_word_reviews_count get_word_reviews_count(reviews)\n",
    "from collections import defaultdict\n",
    "def get_word_reviews_count2(df):\n",
    "    word_reviews = defaultdict(list)\n",
    "    word_reviews_count = defaultdict(int)\n",
    "    for _, row in df.dropna(subset=['review']).iterrows():\n",
    "        recipe_id, review = row['recipe_id'], row['review']\n",
    "        for word in review.split():\n",
    "            word_reviews[word].append(recipe_id)\n",
    "    for word in word_reviews:\n",
    "        word_reviews_count[word] = len(word_reviews[word])\n",
    "%lprun -f get_word_reviews_count2 get_word_reviews_count2(reviews)"
   ]
  }
 ],
 "metadata": {
  "kernelspec": {
   "display_name": "Python 3 (ipykernel)",
   "language": "python",
   "name": "python3"
  },
  "language_info": {
   "codemirror_mode": {
    "name": "ipython",
    "version": 3
   },
   "file_extension": ".py",
   "mimetype": "text/x-python",
   "name": "python",
   "nbconvert_exporter": "python",
   "pygments_lexer": "ipython3",
   "version": "3.9.12"
  }
 },
 "nbformat": 4,
 "nbformat_minor": 4
}
